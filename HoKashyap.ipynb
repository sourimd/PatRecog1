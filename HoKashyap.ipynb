{
 "metadata": {
  "name": "",
  "signature": "sha256:bf4952dc87280ad1069479002cab61581f6ad7963ccf997cd0a245987bad2c60"
 },
 "nbformat": 3,
 "nbformat_minor": 0,
 "worksheets": [
  {
   "cells": [
    {
     "cell_type": "code",
     "collapsed": false,
     "input": [
      "import numpy as np\n",
      "from numpy.linalg import inv\n",
      "from scipy import stats as s\n",
      "from scipy.stats import multivariate_normal as mn\n",
      "from sklearn.preprocessing import StandardScaler\n",
      "from sklearn.neighbors import NearestNeighbors\n",
      "\n",
      "H = np.loadtxt('/home/user/PRTakeHome1/train_sp2015_v14')\n",
      "St= np.loadtxt('/home/user/PRTakeHome1/test_sp2015_v14')"
     ],
     "language": "python",
     "metadata": {},
     "outputs": [],
     "prompt_number": 1
    },
    {
     "cell_type": "code",
     "collapsed": false,
     "input": [
      "#class 1 and 2\n",
      "X = np.ones((15000, 1))\n",
      "X = np.concatenate( (X, H), axis = 1) \n",
      "class1 = X[0:5000]\n",
      "class2 = X[5000:10000]\n",
      "class3 = X[10000:15000]\n",
      "\n",
      "a12 = np.ones((5,1))\n",
      "b12 = np.ones((10000, 1))\n",
      "Y12 = np.concatenate((class1, -1*class2), axis = 0)\n",
      "alpha = 0.1\n",
      "check = Y12.dot(a12)\n",
      "#count = 0\n",
      "#print Y.dot(a).shape\n",
      "prevb12 = np.zeros((10000, 1))\n",
      "while( True ):\n",
      "    #count = count + 1\n",
      "    e = check-b12\n",
      "    b12 = b12+alpha*(e + abs(e))\n",
      "    if( (prevb12 == b12).all() ):\n",
      "        break\n",
      "    prevb12 = b12\n",
      "    temp = inv(Y12.T.dot(Y12)).dot(Y12.T)\n",
      "    a12 = temp.dot(b12)\n",
      "    check = Y12.dot(a12)\n",
      "#print check\n",
      "#print count\n",
      "# cl1 = 0\n",
      "# cl2 = 0\n",
      "# tempvar = 0\n",
      "# for i in range(10000):\n",
      "#     tempvar = Y12[i].dot(X[i].T)-b12[i]\n",
      "#     if( tempvar > 0):\n",
      "#         cl1 = cl1 + 1\n",
      "#     else:\n",
      "#         cl2 = cl2 + 1\n",
      "\n",
      "# print cl1\n",
      "# print cl2\n",
      "print a12"
     ],
     "language": "python",
     "metadata": {},
     "outputs": [
      {
       "output_type": "stream",
       "stream": "stdout",
       "text": [
        "[[ 0.97182861]\n",
        " [ 0.10054533]\n",
        " [ 0.06869386]\n",
        " [ 0.07357993]\n",
        " [-0.02494401]]\n"
       ]
      }
     ],
     "prompt_number": 3
    },
    {
     "cell_type": "code",
     "collapsed": false,
     "input": [
      "#class 2 and 3\n",
      "X = np.ones((15000, 1))\n",
      "X = np.concatenate( (X, H), axis = 1) \n",
      "class1 = X[0:5000]\n",
      "class2 = X[5000:10000]\n",
      "class3 = X[10000:15000]\n",
      "\n",
      "a23 = np.ones((5,1))\n",
      "b23 = np.ones((10000, 1))\n",
      "Y23 = np.concatenate((class2, -1*class3), axis = 0)\n",
      "alpha = 0.1\n",
      "check = Y23.dot(a23)\n",
      "#count = 0\n",
      "#print Y.dot(a).shape\n",
      "prevb23 = np.zeros((10000, 1))\n",
      "while( True ):\n",
      "    #count = count + 1\n",
      "    e = check-b23\n",
      "    b23 = b23+alpha*(e + abs(e))\n",
      "    if( (prevb23 == b23).all() ):\n",
      "        break\n",
      "    prevb23 = b23\n",
      "    temp = inv(Y23.T.dot(Y23)).dot(Y23.T)\n",
      "    a23 = temp.dot(b23)\n",
      "    check = Y23.dot(a23)\n",
      "#print check\n",
      "#print count\n",
      "# cl2 = 0\n",
      "# cl3 = 0\n",
      "# tempvar = 0\n",
      "# for i in range(10000):\n",
      "#     tempvar = Y23[i].dot(X[i+5000].T)-b23[i]\n",
      "#     if( tempvar > 0):\n",
      "#         cl2 = cl2 + 1\n",
      "#     else:\n",
      "#         cl3 = cl3 + 1\n",
      "\n",
      "# print cl2\n",
      "# print cl3\n",
      "print a23"
     ],
     "language": "python",
     "metadata": {},
     "outputs": [
      {
       "output_type": "stream",
       "stream": "stdout",
       "text": [
        "[[-3.15436888]\n",
        " [ 0.14649129]\n",
        " [ 0.20793598]\n",
        " [ 0.14051728]\n",
        " [ 0.21237285]]\n"
       ]
      }
     ],
     "prompt_number": 4
    },
    {
     "cell_type": "code",
     "collapsed": false,
     "input": [
      "#class 1 and 3\n",
      "X = np.ones((15000, 1))\n",
      "X = np.concatenate( (X, H), axis = 1) \n",
      "class1 = X[0:5000]\n",
      "class2 = X[5000:10000]\n",
      "class3 = X[10000:15000]\n",
      "\n",
      "a13 = np.ones((5,1))\n",
      "b13 = np.ones((10000, 1))\n",
      "Y13 = np.concatenate((class1, -1*class3), axis = 0)\n",
      "alpha = 0.1\n",
      "check = Y13.dot(a13)\n",
      "#count = 0\n",
      "#print Y.dot(a).shape\n",
      "prevb13 = np.zeros((10000, 1))\n",
      "while( True ):\n",
      "    #count = count + 1\n",
      "    e = check-b13\n",
      "    b13 = b13+alpha*(e + abs(e))\n",
      "    if( (prevb13 == b13).all() ):\n",
      "        break\n",
      "    prevb13 = b13\n",
      "    temp = inv(Y13.T.dot(Y13)).dot(Y13.T)\n",
      "    a13 = temp.dot(b13)\n",
      "    check = Y13.dot(a13)\n",
      "#print check\n",
      "#print count\n",
      "# cl1 = 0\n",
      "# cl3 = 0\n",
      "# tempvar = 0\n",
      "# for i in range(5000):\n",
      "#     tempvar = Y13[i].dot(X[i].T)-b13[i]\n",
      "#     if( tempvar > 0):\n",
      "#         cl1 = cl1 + 1\n",
      "#     else:\n",
      "#         cl3 = cl3 + 1\n",
      "# print cl1\n",
      "# print cl3       \n",
      "# for i in range(5000, 10000):\n",
      "#     tempvar = Y13[i].dot(X[i+5000].T)-b13[i]\n",
      "#     if( tempvar > 0):\n",
      "#         cl1 = cl1 + 1\n",
      "#     else:\n",
      "#         cl3 = cl3 + 1\n",
      "\n",
      "# print cl1\n",
      "# print cl3\n",
      "print a13"
     ],
     "language": "python",
     "metadata": {},
     "outputs": [
      {
       "output_type": "stream",
       "stream": "stdout",
       "text": [
        "[[-2.91740407]\n",
        " [ 0.12026793]\n",
        " [ 0.22739586]\n",
        " [ 0.14352689]\n",
        " [ 0.10763211]]\n"
       ]
      }
     ],
     "prompt_number": 5
    },
    {
     "cell_type": "code",
     "collapsed": false,
     "input": [
      "cl1 = 0\n",
      "cl2 = 0\n",
      "for i in range(10000):\n",
      "    if( a12.T.dot(X[i]) > 0):\n",
      "        cl1 = cl1 + 1\n",
      "    else:\n",
      "        cl2 = cl2 + 1\n",
      "print cl1\n",
      "print cl2"
     ],
     "language": "python",
     "metadata": {},
     "outputs": [
      {
       "output_type": "stream",
       "stream": "stdout",
       "text": [
        "6457\n",
        "3543\n"
       ]
      }
     ],
     "prompt_number": 8
    },
    {
     "cell_type": "code",
     "collapsed": false,
     "input": [
      "cl2 = 0\n",
      "cl3 = 0\n",
      "for i in range(10000, 15000):\n",
      "    if( a23.T.dot(X[i]) > 0):\n",
      "        cl2 = cl2 + 1\n",
      "    else:\n",
      "        cl3 = cl3 + 1\n",
      "print cl2\n",
      "print cl3"
     ],
     "language": "python",
     "metadata": {},
     "outputs": [
      {
       "output_type": "stream",
       "stream": "stdout",
       "text": [
        "926\n",
        "4074\n"
       ]
      }
     ],
     "prompt_number": 10
    },
    {
     "cell_type": "code",
     "collapsed": false,
     "input": [
      "cl1 = 0\n",
      "cl3 = 0\n",
      "for i in range(5000):\n",
      "    if( a13.T.dot(X[i]) > 0):\n",
      "        cl1 = cl1 + 1\n",
      "    else:\n",
      "        cl3 = cl3 + 1\n",
      "print cl1\n",
      "print cl3\n",
      "cl1 = 0\n",
      "cl3 = 0\n",
      "for i in range(10000, 15000):\n",
      "    if( a13.T.dot(X[i]) > 0):\n",
      "        cl1 = cl1 + 1\n",
      "    else:\n",
      "        cl3 = cl3 + 1\n",
      "print cl1\n",
      "print cl3"
     ],
     "language": "python",
     "metadata": {},
     "outputs": [
      {
       "output_type": "stream",
       "stream": "stdout",
       "text": [
        "2436\n",
        "2564\n",
        "1166"
       ]
      },
      {
       "output_type": "stream",
       "stream": "stdout",
       "text": [
        "\n",
        "3834\n"
       ]
      }
     ],
     "prompt_number": 11
    },
    {
     "cell_type": "code",
     "collapsed": false,
     "input": [
      "def returnClass(a, b, c):\n",
      "    if( a>b and a>c ):\n",
      "        return \"1\"\n",
      "    elif( b>a and b>c ):\n",
      "        return \"2\"\n",
      "    else:\n",
      "        return \"3\"\n",
      "Sx = np.ones((15000, 1))\n",
      "Sx = np.concatenate( (Sx, St), axis = 1)\n",
      "f = open('/home/user/Desktop/HoKashyap','w')\n",
      "for i in range(15000):\n",
      "    aaa = 0\n",
      "    bbb = 0\n",
      "    ccc = 0\n",
      "    if( a12.T.dot(Sx[i]) > 0 ):\n",
      "        aaa = aaa+1\n",
      "    else:\n",
      "        bbb = bbb+1\n",
      "    if( a23.T.dot(Sx[i]) > 0 ):\n",
      "        bbb = bbb+1\n",
      "    else:\n",
      "        ccc = ccc+1\n",
      "    if( a13.T.dot(Sx[i]) > 0 ):\n",
      "        aaa = aaa+1\n",
      "    else:\n",
      "        ccc = ccc+1\n",
      "    f.write( returnClass(aaa, bbb, ccc) + '\\n')\n",
      "f.close()"
     ],
     "language": "python",
     "metadata": {},
     "outputs": [],
     "prompt_number": 110
    },
    {
     "cell_type": "code",
     "collapsed": false,
     "input": [
      "def returnClassInt(a, b, c):\n",
      "    if( a>b and a>c ):\n",
      "        return 1\n",
      "    elif( b>a and b>c ):\n",
      "        return 2\n",
      "    else:\n",
      "        return 3"
     ],
     "language": "python",
     "metadata": {},
     "outputs": [],
     "prompt_number": 12
    },
    {
     "cell_type": "code",
     "collapsed": false,
     "input": [
      "arr = [2,3,1,3,1,2]\n",
      "err = 0\n",
      "cof_mat = np.zeros((3,3))\n",
      "Sx = np.ones((15000, 1))\n",
      "Sx = np.concatenate( (Sx, St), axis = 1)\n",
      "\n",
      "for i in range(0, 15000):\n",
      "    aaa = 0\n",
      "    bbb = 0\n",
      "    ccc = 0\n",
      "    if( a12.T.dot(Sx[i]) > 0 ):\n",
      "        aaa = aaa+1\n",
      "    else:\n",
      "        bbb = bbb+1\n",
      "    if( a23.T.dot(Sx[i]) > 0 ):\n",
      "        bbb = bbb+1\n",
      "    else:\n",
      "        ccc = ccc+1\n",
      "    if( a13.T.dot(Sx[i]) > 0 ):\n",
      "        aaa = aaa+1\n",
      "    else:\n",
      "        ccc = ccc+1\n",
      "    retrievedRes = returnClassInt(aaa, bbb, ccc)\n",
      "    if(  retrievedRes != arr[i%6]):\n",
      "        err = err + 1\n",
      "    cof_mat[arr[i%6]-1][retrievedRes-1] = cof_mat[arr[i%6]-1][retrievedRes-1] + 1\n",
      "print err\n",
      "print cof_mat"
     ],
     "language": "python",
     "metadata": {},
     "outputs": [
      {
       "output_type": "stream",
       "stream": "stdout",
       "text": [
        "7587\n",
        "[[ 2273.   137.  2590.]\n",
        " [ 2661.  1358.   981.]\n",
        " [ 1157.    61.  3782.]]\n"
       ]
      }
     ],
     "prompt_number": 14
    },
    {
     "cell_type": "code",
     "collapsed": false,
     "input": [
      "#this cell may be wrong..the next is probably\n",
      "#the right one\n",
      "w = a\n",
      "cl1 = 0\n",
      "cl2 = 0\n",
      "tempvar = 0\n",
      "for i in range(10000):\n",
      "    tempvar = X[i].dot(w)-b[i]\n",
      "    if( tempvar > 0):\n",
      "        cl1 = cl1 + 1\n",
      "    else:\n",
      "        cl2 = cl2 + 1\n",
      "\n",
      "print cl1\n",
      "print cl2"
     ],
     "language": "python",
     "metadata": {},
     "outputs": [
      {
       "output_type": "stream",
       "stream": "stdout",
       "text": [
        "4001\n",
        "5999\n"
       ]
      }
     ],
     "prompt_number": 80
    },
    {
     "cell_type": "code",
     "collapsed": false,
     "input": [
      "cl1 = 0\n",
      "cl2 = 0\n",
      "tempvar = 0\n",
      "for i in range(5000):\n",
      "    tempvar = Y[i].dot(X[i].T)-b[i]\n",
      "    if( tempvar > 0):\n",
      "        cl1 = cl1 + 1\n",
      "    else:\n",
      "        cl2 = cl2 + 1\n",
      "\n",
      "print cl1\n",
      "print cl2"
     ],
     "language": "python",
     "metadata": {},
     "outputs": [
      {
       "output_type": "stream",
       "stream": "stdout",
       "text": [
        "5000\n",
        "0\n"
       ]
      }
     ],
     "prompt_number": 83
    },
    {
     "cell_type": "code",
     "collapsed": false,
     "input": [
      "print Y.shape"
     ],
     "language": "python",
     "metadata": {},
     "outputs": [
      {
       "output_type": "stream",
       "stream": "stdout",
       "text": [
        "(10000, 5)\n"
       ]
      }
     ],
     "prompt_number": 81
    },
    {
     "cell_type": "code",
     "collapsed": false,
     "input": [
      "aa = np.zeros((3,3))\n",
      "print (aa > 0).all()\n",
      "print abs(aa)\n",
      "print check\n",
      "print count"
     ],
     "language": "python",
     "metadata": {},
     "outputs": [
      {
       "output_type": "stream",
       "stream": "stdout",
       "text": [
        "False\n",
        "[[ 0.  0.  0.]\n",
        " [ 0.  0.  0.]\n",
        " [ 0.  0.  0.]]\n",
        "[[ 27.03210328]\n",
        " [ 76.12849352]\n",
        " [-85.83688002]\n",
        " ..., \n",
        " [-42.29989209]\n",
        " [ 23.14983774]\n",
        " [  1.24838807]]\n",
        "244019\n"
       ]
      }
     ],
     "prompt_number": 39
    }
   ],
   "metadata": {}
  }
 ]
}