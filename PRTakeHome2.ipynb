{
 "metadata": {
  "name": "",
  "signature": "sha256:bd6ca8e22a40d182a5017b8cbe39517ad9b253a89f757d8667a38631935323f0"
 },
 "nbformat": 3,
 "nbformat_minor": 0,
 "worksheets": [
  {
   "cells": [
    {
     "cell_type": "code",
     "collapsed": false,
     "input": [
      "import numpy as np\n",
      "from scipy import stats as s\n",
      "from scipy.stats import multivariate_normal as mn\n",
      "from sklearn.preprocessing import StandardScaler\n",
      "from sklearn.neighbors import NearestNeighbors\n",
      "\n",
      "H = np.loadtxt('/home/user/PRTakeHome1/train_sp2015_v14')\n",
      "St= np.loadtxt('/home/user/PRTakeHome1/test_sp2015_v14')"
     ],
     "language": "python",
     "metadata": {},
     "outputs": [],
     "prompt_number": 20
    },
    {
     "cell_type": "code",
     "collapsed": false,
     "input": [
      "X = H"
     ],
     "language": "python",
     "metadata": {},
     "outputs": [],
     "prompt_number": 21
    },
    {
     "cell_type": "code",
     "collapsed": false,
     "input": [
      "print np.mean(X, axis = 0)"
     ],
     "language": "python",
     "metadata": {},
     "outputs": [
      {
       "output_type": "stream",
       "stream": "stdout",
       "text": [
        "[ -1.81125417  31.75449909 -25.42584149 -16.15029483]\n"
       ]
      }
     ],
     "prompt_number": 46
    },
    {
     "cell_type": "code",
     "collapsed": false,
     "input": [
      "X.T.shape"
     ],
     "language": "python",
     "metadata": {},
     "outputs": [
      {
       "metadata": {},
       "output_type": "pyout",
       "prompt_number": 38,
       "text": [
        "(4, 15000)"
       ]
      }
     ],
     "prompt_number": 38
    },
    {
     "cell_type": "code",
     "collapsed": false,
     "input": [
      "#X_std = StandardScaler().fit_transform(X)"
     ],
     "language": "python",
     "metadata": {},
     "outputs": [],
     "prompt_number": 39
    },
    {
     "cell_type": "code",
     "collapsed": false,
     "input": [
      "mean_vec = np.mean(X, axis=0)\n",
      "#cov_mat = (X_std - mean_vec).T.dot((X_std - mean_vec)) / (X_std.shape[0]-1)\n",
      "#print('Covariance matrix \\n%s' %cov_mat)"
     ],
     "language": "python",
     "metadata": {},
     "outputs": [],
     "prompt_number": 22
    },
    {
     "cell_type": "code",
     "collapsed": false,
     "input": [
      "X_SubMean = np.zeros((15000, 4))\n",
      "for i in range(0, 15000):\n",
      "    X_SubMean[i] = X[i] - mean_vec\n",
      "print X_SubMean"
     ],
     "language": "python",
     "metadata": {},
     "outputs": [
      {
       "output_type": "stream",
       "stream": "stdout",
       "text": [
        "[[ -30.73122983   36.42067091    5.66485149  -67.20672017]\n",
        " [  11.55471717   38.59430691    4.65023149 -107.28960017]\n",
        " [-103.84969783   -8.37564209  -20.54219351  -77.87696617]\n",
        " ..., \n",
        " [  66.05585617 -108.77330709   13.90130449  -82.56234317]\n",
        " [ -11.94857483   40.84735091   18.63291449   -2.74823617]\n",
        " [  61.94383117  -17.57539409   28.92571349  -90.24903217]]\n"
       ]
      }
     ],
     "prompt_number": 23
    },
    {
     "cell_type": "code",
     "collapsed": false,
     "input": [
      "Sx_SubMean = np.zeros((15000, 4))\n",
      "for i in range(0, 15000):\n",
      "    Sx_SubMean[i] = St[i] - mean_vec\n",
      "print Sx_SubMean"
     ],
     "language": "python",
     "metadata": {},
     "outputs": [
      {
       "output_type": "stream",
       "stream": "stdout",
       "text": [
        "[[  -1.87099683   29.59539991  -66.38562051  178.43500783]\n",
        " [   6.94517217  -39.89497909   91.71221949   15.89053483]\n",
        " [  12.58404017   22.22604691    9.85343549  -36.62409217]\n",
        " ..., \n",
        " [ -86.23274583   47.69807391  -26.49457351    4.34961183]\n",
        " [  80.74875117 -101.30945609  -23.67055551  -69.92036117]\n",
        " [  -0.55002583   54.56455991   -0.86367551  168.10503583]]\n"
       ]
      }
     ],
     "prompt_number": 39
    },
    {
     "cell_type": "code",
     "collapsed": false,
     "input": [
      "cv_mt = np.cov(X_SubMean.T)\n",
      "print cv_mt"
     ],
     "language": "python",
     "metadata": {},
     "outputs": [
      {
       "output_type": "stream",
       "stream": "stdout",
       "text": [
        "[[  3.65949667e+03   6.49412660e+01   2.88923334e+01   1.32816027e+02]\n",
        " [  6.49412660e+01   3.13622654e+03   1.47485929e+01   5.93202843e+02]\n",
        " [  2.88923334e+01   1.47485929e+01   2.30720486e+03  -1.02334382e+00]\n",
        " [  1.32816027e+02   5.93202843e+02  -1.02334382e+00   5.79581677e+03]]\n"
       ]
      }
     ],
     "prompt_number": 24
    },
    {
     "cell_type": "code",
     "collapsed": false,
     "input": [
      "eig_vals, eig_vecs = np.linalg.eig(cv_mt)\n",
      "\n",
      "print('Eigenvectors \\n%s' %eig_vecs)\n",
      "print('\\nEigenvalues \\n%s' %eig_vals)"
     ],
     "language": "python",
     "metadata": {},
     "outputs": [
      {
       "output_type": "stream",
       "stream": "stdout",
       "text": [
        "Eigenvectors \n",
        "[[ 0.06303766  0.99619901  0.05638433 -0.02084665]\n",
        " [ 0.20860912  0.04168998 -0.97692051 -0.01924818]\n",
        " [ 0.00107596  0.0218983  -0.01853053  0.99958788]\n",
        " [ 0.97596482 -0.07327982  0.20519195  0.00435872]]\n",
        "\n",
        "Eigenvalues \n",
        "[ 5931.18930673  3653.07963508  3008.16205689  2306.313845  ]\n"
       ]
      }
     ],
     "prompt_number": 25
    },
    {
     "cell_type": "code",
     "collapsed": false,
     "input": [
      "EVecsToBeConsiderd = eig_vecs[0:4, 0:2].T"
     ],
     "language": "python",
     "metadata": {},
     "outputs": [],
     "prompt_number": 26
    },
    {
     "cell_type": "code",
     "collapsed": false,
     "input": [
      "New = EVecsToBeConsiderd.dot(  X_SubMean.T )\n",
      "New.shape"
     ],
     "language": "python",
     "metadata": {},
     "outputs": [
      {
       "metadata": {},
       "output_type": "pyout",
       "prompt_number": 27,
       "text": [
        "(2, 15000)"
       ]
      }
     ],
     "prompt_number": 27
    },
    {
     "cell_type": "code",
     "collapsed": false,
     "input": [
      "SNew = EVecsToBeConsiderd.dot(  Sx_SubMean.T )\n",
      "SNew.shape"
     ],
     "language": "python",
     "metadata": {},
     "outputs": [
      {
       "metadata": {},
       "output_type": "pyout",
       "prompt_number": 40,
       "text": [
        "(2, 15000)"
       ]
      }
     ],
     "prompt_number": 40
    },
    {
     "cell_type": "code",
     "collapsed": false,
     "input": [
      "data = New.T"
     ],
     "language": "python",
     "metadata": {},
     "outputs": [],
     "prompt_number": 28
    },
    {
     "cell_type": "code",
     "collapsed": false,
     "input": [
      "Sdata = SNew.T"
     ],
     "language": "python",
     "metadata": {},
     "outputs": [],
     "prompt_number": 42
    },
    {
     "cell_type": "code",
     "collapsed": false,
     "input": [
      "classOneMeanVector = np.zeros((2,1))\n",
      "for j in range(0,2):\n",
      "    sum = 0\n",
      "    for i in range(0,5000):\n",
      "        sum = sum + data[i][j]\n",
      "    classOneMeanVector[j][0] = sum / 5000\n",
      "print classOneMeanVector.transpose()\n",
      "print classOneMeanVector.T\n",
      "classOneTrainingData = data[0:5000,:]\n",
      "summation = np.zeros((2,1))\n",
      "for i in range(0, 5000):\n",
      "    temp = classOneTrainingData[i] - classOneMeanVector.T[0]\n",
      "    summation = summation + np.outer(temp.transpose(), temp.transpose())\n",
      "estimatedCovMatrixClassOne = summation/4999\n",
      "print estimatedCovMatrixClassOne\n",
      "varOne = mn( mean = classOneMeanVector.T[0], cov = estimatedCovMatrixClassOne)"
     ],
     "language": "python",
     "metadata": {},
     "outputs": [
      {
       "output_type": "stream",
       "stream": "stdout",
       "text": [
        "[[-28.69293471   5.58276958]]\n",
        "[[-28.69293471   5.58276958]]\n",
        "[[ 2601.24267661   304.88405633]\n",
        " [  304.88405633  5110.65796348]]"
       ]
      },
      {
       "output_type": "stream",
       "stream": "stdout",
       "text": [
        "\n"
       ]
      }
     ],
     "prompt_number": 49
    },
    {
     "cell_type": "code",
     "collapsed": false,
     "input": [
      "classTwoMeanVector = np.zeros((2,1))\n",
      "for j in range(0,2):\n",
      "    sum = 0\n",
      "    for i in range(5000,10000):\n",
      "        sum = sum + data[i][j]\n",
      "    classTwoMeanVector[j][0] = sum / 5000\n",
      "print classTwoMeanVector.transpose()\n",
      "#print classOneMeanVector.T\n",
      "classTwoTrainingData = data[5000:10000,:]\n",
      "summation = np.zeros((2,1))\n",
      "for i in range(0, 5000):\n",
      "    temp = classTwoTrainingData[i] - classTwoMeanVector.T[0]\n",
      "    summation = summation + np.outer(temp.transpose(), temp.transpose())\n",
      "estimatedCovMatrixClassTwo = summation/4999\n",
      "print estimatedCovMatrixClassTwo\n",
      "varTwo = mn( mean = classTwoMeanVector.T[0], cov = estimatedCovMatrixClassTwo)"
     ],
     "language": "python",
     "metadata": {},
     "outputs": [
      {
       "output_type": "stream",
       "stream": "stdout",
       "text": [
        "[[ 68.95942196  -2.41489583]]\n",
        "[[ 5519.50467214  -382.21823857]\n",
        " [ -382.21823857    59.01583858]]"
       ]
      },
      {
       "output_type": "stream",
       "stream": "stdout",
       "text": [
        "\n"
       ]
      }
     ],
     "prompt_number": 48
    },
    {
     "cell_type": "code",
     "collapsed": false,
     "input": [
      "classThreeMeanVector = np.zeros((2,1))\n",
      "for j in range(0,2):\n",
      "    sum = 0\n",
      "    for i in range(10000,15000):\n",
      "        sum = sum + data[i][j]\n",
      "    classThreeMeanVector[j][0] = sum / 5000\n",
      "print classThreeMeanVector.transpose()\n",
      "#print classOneMeanVector.T\n",
      "classThreeTrainingData = data[10000:15000,:]\n",
      "summation = np.zeros((2,1))\n",
      "for i in range(0, 5000):\n",
      "    temp = classThreeTrainingData[i] - classThreeMeanVector.T[0]\n",
      "    summation = summation + np.outer(temp.transpose(), temp.transpose())\n",
      "estimatedCovMatrixClassThree = summation/4999\n",
      "print estimatedCovMatrixClassThree\n",
      "varThree = mn( mean = classThreeMeanVector.T[0], cov = estimatedCovMatrixClassThree)"
     ],
     "language": "python",
     "metadata": {},
     "outputs": [
      {
       "output_type": "stream",
       "stream": "stdout",
       "text": [
        "[[-40.26648725  -3.16787375]]\n",
        "[[ 2473.67684406   276.53073699]\n",
        " [  276.53073699  5743.98275644]]"
       ]
      },
      {
       "output_type": "stream",
       "stream": "stdout",
       "text": [
        "\n"
       ]
      }
     ],
     "prompt_number": 47
    },
    {
     "cell_type": "code",
     "collapsed": false,
     "input": [
      "def findMax(a, b, c):\n",
      "    if a > b and a > c:\n",
      "        return \"1\"\n",
      "    elif b > a and b > c:\n",
      "        return \"2\"\n",
      "    else:\n",
      "        return \"3\""
     ],
     "language": "python",
     "metadata": {},
     "outputs": [],
     "prompt_number": 33
    },
    {
     "cell_type": "code",
     "collapsed": false,
     "input": [
      "f = open('/home/user/Desktop/TrainingRealityCheckTake2','w')\n",
      "for i in range(0, 15000):\n",
      "    f.write( findMax(  varOne.pdf( data[i:i+1,:][0] ), varTwo.pdf( data[i:i+1,:][0] ), varThree.pdf( data[i:i+1,:][0] ) )+'\\n')\n",
      "f.close()"
     ],
     "language": "python",
     "metadata": {},
     "outputs": [],
     "prompt_number": 75
    },
    {
     "cell_type": "code",
     "collapsed": false,
     "input": [
      "def findMaxInReturn(a, b, c):\n",
      "    if a > b and a > c:\n",
      "        return 1\n",
      "    elif b > a and b > c:\n",
      "        return 2\n",
      "    else:\n",
      "        return 3"
     ],
     "language": "python",
     "metadata": {},
     "outputs": [],
     "prompt_number": 34
    },
    {
     "cell_type": "code",
     "collapsed": false,
     "input": [
      "w11 = 0\n",
      "w12 = 0\n",
      "w13 = 0\n",
      "for i in range(0, 5000):\n",
      "    a = findMaxInReturn(  varOne.pdf( data[i:i+1,:][0] ), varTwo.pdf( data[i:i+1,:][0] ), varThree.pdf( data[i:i+1,:][0] ) )\n",
      "    if a == 1:\n",
      "        w11 = w11 + 1\n",
      "    elif a == 2:\n",
      "        w12 = w12 + 1\n",
      "    else:\n",
      "        w13 = w13 + 1\n",
      "print w11\n",
      "print w12\n",
      "print w13"
     ],
     "language": "python",
     "metadata": {},
     "outputs": [
      {
       "output_type": "stream",
       "stream": "stdout",
       "text": [
        "2268\n",
        "525\n",
        "2207\n"
       ]
      }
     ],
     "prompt_number": 35
    },
    {
     "cell_type": "code",
     "collapsed": false,
     "input": [
      "w21 = 0\n",
      "w22 = 0\n",
      "w23 = 0\n",
      "for i in range(5000, 10000):\n",
      "    a = findMaxInReturn(  varOne.pdf( data[i:i+1,:][0] ), varTwo.pdf( data[i:i+1,:][0] ), varThree.pdf( data[i:i+1,:][0] ) )\n",
      "    if a == 1:\n",
      "        w21 = w21 + 1\n",
      "    elif a == 2:\n",
      "        w22 = w22 + 1\n",
      "    else:\n",
      "        w23 = w23 + 1\n",
      "print w21\n",
      "print w22\n",
      "print w23"
     ],
     "language": "python",
     "metadata": {},
     "outputs": [
      {
       "output_type": "stream",
       "stream": "stdout",
       "text": [
        "80\n",
        "4838\n",
        "82\n"
       ]
      }
     ],
     "prompt_number": 36
    },
    {
     "cell_type": "code",
     "collapsed": false,
     "input": [
      "w31 = 0\n",
      "w32 = 0\n",
      "w33 = 0\n",
      "for i in range(10000, 15000):\n",
      "    a = findMaxInReturn(  varOne.pdf( data[i:i+1,:][0] ), varTwo.pdf( data[i:i+1,:][0] ), varThree.pdf( data[i:i+1,:][0] ) )\n",
      "    if a == 1:\n",
      "        w31 = w31 + 1\n",
      "    elif a == 2:\n",
      "        w32 = w32 + 1\n",
      "    else:\n",
      "        w33 = w33 + 1\n",
      "print w31\n",
      "print w32\n",
      "print w33"
     ],
     "language": "python",
     "metadata": {},
     "outputs": [
      {
       "output_type": "stream",
       "stream": "stdout",
       "text": [
        "1823\n",
        "448\n",
        "2729\n"
       ]
      }
     ],
     "prompt_number": 37
    },
    {
     "cell_type": "code",
     "collapsed": false,
     "input": [
      "arr = [2,3,1,3,1,2]\n",
      "err = 0\n",
      "cof_mat = np.zeros((3,3))\n",
      "for i in range(15000):\n",
      "    retrievedRes = findMaxInReturn(  varOne.pdf( Sdata[i:i+1,:][0] ), varTwo.pdf( Sdata[i:i+1,:][0] ), varThree.pdf( Sdata[i:i+1,:][0] ) )\n",
      "    if(  retrievedRes != arr[i%6]):\n",
      "        err = err + 1\n",
      "    cof_mat[arr[i%6]-1][retrievedRes-1] = cof_mat[arr[i%6]-1][retrievedRes-1] + 1\n",
      "print err\n",
      "print cof_mat"
     ],
     "language": "python",
     "metadata": {},
     "outputs": [
      {
       "output_type": "stream",
       "stream": "stdout",
       "text": [
        "5214\n",
        "[[ 2263.   551.  2186.]\n",
        " [   95.  4818.    87.]\n",
        " [ 1843.   452.  2705.]]\n"
       ]
      }
     ],
     "prompt_number": 50
    },
    {
     "cell_type": "code",
     "collapsed": false,
     "input": [
      "print H"
     ],
     "language": "python",
     "metadata": {},
     "outputs": [
      {
       "output_type": "stream",
       "stream": "stdout",
       "text": [
        "[[ -32.542484   68.17517   -19.76099   -83.357015]\n",
        " [   9.743463   70.348806  -20.77561  -123.439895]\n",
        " [-105.660952   23.378857  -45.968035  -94.027261]\n",
        " ..., \n",
        " [  64.244602  -77.018808  -11.524537  -98.712638]\n",
        " [ -13.759829   72.60185    -6.792927  -18.898531]\n",
        " [  60.132577   14.179105    3.499872 -106.399327]]\n"
       ]
      }
     ],
     "prompt_number": 3
    },
    {
     "cell_type": "code",
     "collapsed": false,
     "input": [
      "nbrs = NearestNeighbors(n_neighbors=1, algorithm='ball_tree').fit(H)\n",
      "distances, indices = nbrs.kneighbors(St)"
     ],
     "language": "python",
     "metadata": {},
     "outputs": [],
     "prompt_number": 8
    },
    {
     "cell_type": "code",
     "collapsed": false,
     "input": [
      "print distances\n",
      "print \"------\"\n",
      "print indices\n",
      "print distances.shape\n",
      "print indices.shape"
     ],
     "language": "python",
     "metadata": {},
     "outputs": [
      {
       "output_type": "stream",
       "stream": "stdout",
       "text": [
        "[[ 17.28337495  24.63467009  26.44417658  29.19986474  30.80674934]\n",
        " [ 13.69525238  14.00789223  15.70572388  15.90481052  18.57851937]\n",
        " [  5.15351631   7.32189782   9.4302852    9.44132385   9.59059053]\n",
        " ..., \n",
        " [ 10.37907139  19.00161298  20.04243322  21.04514829  21.49415536]\n",
        " [ 18.74474757  23.21858218  23.89244518  24.32592824  26.26254092]\n",
        " [  8.75391822   9.54875631   9.74526966  10.49933662  12.40183601]]\n",
        "------\n",
        "[[ 5320  7479  8602  9705  5341]\n",
        " [10536 11232 10719  8649 13518]\n",
        " [ 2970  9227  3935  8018   628]\n",
        " ..., \n",
        " [ 1085 14256   935   111 11589]\n",
        " [  348 14954 11289 14668 13405]\n",
        " [ 8000  7496  8276  9784  7874]]\n",
        "(15000, 5)\n",
        "(15000, 5)\n"
       ]
      }
     ],
     "prompt_number": 3
    },
    {
     "cell_type": "code",
     "collapsed": false,
     "input": [
      "f = open('/home/user/Desktop/TestClassification_1KNN','w')\n",
      "for i in range(15000):\n",
      "    if( indices[i][0]>=0 and indices[i][0]<5000):\n",
      "        f.write('1')\n",
      "        f.write('\\n')\n",
      "    elif( indices[i][0]>=5000 and indices[i][0]<10000 ):\n",
      "        f.write('2')\n",
      "        f.write('\\n')\n",
      "    else:\n",
      "        f.write('3')\n",
      "        f.write('\\n')\n",
      "f.close()"
     ],
     "language": "python",
     "metadata": {},
     "outputs": [],
     "prompt_number": 22
    },
    {
     "cell_type": "code",
     "collapsed": false,
     "input": [
      "f = open('/home/user/Desktop/TestClassification_3KNN','w')\n",
      "for i in range(15000):\n",
      "    freq = [0, 0, 0]\n",
      "    for j in range(3):\n",
      "        if( indices[i][j]>=0 and indices[i][j]<5000 ):\n",
      "            freq[0] = freq[0] + 1\n",
      "        elif( indices[i][j]>=5000 and indices[i][j]<10000 ):\n",
      "            freq[1] = freq[1] + 1\n",
      "        else:\n",
      "            freq[2] = freq[2] + 1\n",
      "    val = freq.index(max(freq)) + 1\n",
      "    f.write( str(val) + '\\n' )\n",
      "        \n",
      "f.close()"
     ],
     "language": "python",
     "metadata": {},
     "outputs": [],
     "prompt_number": 33
    },
    {
     "cell_type": "code",
     "collapsed": false,
     "input": [
      "f = open('/home/user/Desktop/TestClassification_5KNN','w')\n",
      "for i in range(15000):\n",
      "    freq = [0, 0, 0]\n",
      "    for j in range(5):\n",
      "        if( indices[i][j]>=0 and indices[i][j]<5000 ):\n",
      "            freq[0] = freq[0] + 1\n",
      "        elif( indices[i][j]>=5000 and indices[i][j]<10000 ):\n",
      "            freq[1] = freq[1] + 1\n",
      "        else:\n",
      "            freq[2] = freq[2] + 1\n",
      "    val = freq.index(max(freq)) + 1\n",
      "    f.write( str(val) + '\\n' )\n",
      "        \n",
      "f.close()"
     ],
     "language": "python",
     "metadata": {},
     "outputs": [],
     "prompt_number": 36
    },
    {
     "cell_type": "code",
     "collapsed": false,
     "input": [
      "arr = [2,3,1,3,1,2]\n",
      "err = 0\n",
      "cof_mat = np.zeros((3,3))\n",
      "for i in range(0, 15000):\n",
      "    freq = [0, 0, 0]\n",
      "    for j in range(5):\n",
      "        if( indices[i][j]>=0 and indices[i][j]<5000 ):\n",
      "            freq[0] = freq[0] + 1\n",
      "        elif( indices[i][j]>=5000 and indices[i][j]<10000 ):\n",
      "            freq[1] = freq[1] + 1\n",
      "        else:\n",
      "            freq[2] = freq[2] + 1\n",
      "    retrievedRes = freq.index(max(freq)) + 1\n",
      "    if(  retrievedRes != arr[i%6]):\n",
      "        err = err + 1\n",
      "    cof_mat[arr[i%6]-1][retrievedRes-1] = cof_mat[arr[i%6]-1][retrievedRes-1] + 1\n",
      "print err\n",
      "print cof_mat"
     ],
     "language": "python",
     "metadata": {},
     "outputs": [
      {
       "output_type": "stream",
       "stream": "stdout",
       "text": [
        "3379\n",
        "[[ 3550.   602.   848.]\n",
        " [  274.  4651.    75.]\n",
        " [ 1285.   295.  3420.]]\n"
       ]
      }
     ],
     "prompt_number": 4
    },
    {
     "cell_type": "code",
     "collapsed": false,
     "input": [
      "arr = [2,3,1,3,1,2]\n",
      "err = 0\n",
      "cof_mat = np.zeros((3,3))\n",
      "for i in range(0, 15000):\n",
      "    freq = [0, 0, 0]\n",
      "    for j in range(3):\n",
      "        if( indices[i][j]>=0 and indices[i][j]<5000 ):\n",
      "            freq[0] = freq[0] + 1\n",
      "        elif( indices[i][j]>=5000 and indices[i][j]<10000 ):\n",
      "            freq[1] = freq[1] + 1\n",
      "        else:\n",
      "            freq[2] = freq[2] + 1\n",
      "    retrievedRes = freq.index(max(freq)) + 1\n",
      "    if(  retrievedRes != arr[i%6]):\n",
      "        err = err + 1\n",
      "    cof_mat[arr[i%6]-1][retrievedRes-1] = cof_mat[arr[i%6]-1][retrievedRes-1] + 1\n",
      "print err\n",
      "print cof_mat"
     ],
     "language": "python",
     "metadata": {},
     "outputs": [
      {
       "output_type": "stream",
       "stream": "stdout",
       "text": [
        "3473\n",
        "[[ 3532.   562.   906.]\n",
        " [  368.  4543.    89.]\n",
        " [ 1294.   254.  3452.]]\n"
       ]
      }
     ],
     "prompt_number": 7
    },
    {
     "cell_type": "code",
     "collapsed": false,
     "input": [
      "arr = [2,3,1,3,1,2]\n",
      "err = 0\n",
      "cof_mat = np.zeros((3,3))\n",
      "for i in range(0, 15000):\n",
      "    freq = [0, 0, 0]\n",
      "    for j in range(1):\n",
      "        if( indices[i][j]>=0 and indices[i][j]<5000 ):\n",
      "            freq[0] = freq[0] + 1\n",
      "        elif( indices[i][j]>=5000 and indices[i][j]<10000 ):\n",
      "            freq[1] = freq[1] + 1\n",
      "        else:\n",
      "            freq[2] = freq[2] + 1\n",
      "    retrievedRes = freq.index(max(freq)) + 1\n",
      "    if(  retrievedRes != arr[i%6]):\n",
      "        err = err + 1\n",
      "    cof_mat[arr[i%6]-1][retrievedRes-1] = cof_mat[arr[i%6]-1][retrievedRes-1] + 1\n",
      "print err\n",
      "print cof_mat"
     ],
     "language": "python",
     "metadata": {},
     "outputs": [
      {
       "output_type": "stream",
       "stream": "stdout",
       "text": [
        "3872\n",
        "[[ 3269.   550.  1181.]\n",
        " [  390.  4419.   191.]\n",
        " [ 1291.   269.  3440.]]\n"
       ]
      }
     ],
     "prompt_number": 9
    }
   ],
   "metadata": {}
  }
 ]
}